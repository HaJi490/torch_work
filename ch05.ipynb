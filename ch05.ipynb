{
 "cells": [
  {
   "cell_type": "markdown",
   "id": "3489d2f3",
   "metadata": {},
   "source": [
    "# 102 Category Flower Dataset\n",
    "\n",
    "- pytorch dataset(https://docs.pytorch.org/vision/main/datasets.html)\n",
    "    - FashionMNIST을 사용해서 최소한의 모델을 구성해봅시다!\n",
    "    - caltech101\n",
    "\n",
    "- Models and pretrained weights\n",
    "    - resnet152(pytorch:: https://docs.pytorch.org/vision/0.20/models/resnet.html)"
   ]
  },
  {
   "cell_type": "markdown",
   "id": "958ebbc0",
   "metadata": {},
   "source": [
    "CNN:: \n",
    "- tensor -> conv(숨겨진 특성추출)\n",
    "- 이미지에 국한되지 마라"
   ]
  },
  {
   "cell_type": "code",
   "execution_count": 166,
   "id": "01b7801f",
   "metadata": {},
   "outputs": [
    {
     "name": "stdout",
     "output_type": "stream",
     "text": [
      "GPU.CPU: cpu\n"
     ]
    }
   ],
   "source": [
    "import numpy as np\n",
    "import pandas as pd\n",
    "import matplotlib.pyplot as plt\n",
    "\n",
    "import torch\n",
    "import torch.nn as nn\n",
    "import torch.optim as optim\n",
    "from torch.utils.data import DataLoader\n",
    "\n",
    "import torchvision\n",
    "from torchvision import datasets, transforms\n",
    "\n",
    "device = torch.device('cuda' if torch.cuda.is_available() else 'cpu')\n",
    "print(f'GPU.CPU: {device}')\n",
    "\n",
    "import ssl\n",
    "ssl._create_default_https_context = ssl._create_unverified_context"
   ]
  },
  {
   "cell_type": "code",
   "execution_count": 167,
   "id": "93889d0b",
   "metadata": {},
   "outputs": [],
   "source": [
    "batch_size = 64\n",
    "lr = 0.001\n",
    "num_epochs = 20\n",
    "num_classes = 102"
   ]
  },
  {
   "cell_type": "markdown",
   "id": "f72def69",
   "metadata": {},
   "source": [
    "## 1. 전처리(이미지)"
   ]
  },
  {
   "cell_type": "markdown",
   "id": "035acbb8",
   "metadata": {},
   "source": [
    "- torchvision -> openCV"
   ]
  },
  {
   "cell_type": "code",
   "execution_count": 168,
   "id": "d5886450",
   "metadata": {},
   "outputs": [],
   "source": [
    "# 1. 이미지를 32, 32로 사이즈 변경해야 함\n",
    "# 2. 텐서로 변경해야 함❗\n",
    "train_transforms = transforms.Compose([\n",
    "    # _____________________1,\n",
    "    transforms.Resize((32,32)),\n",
    "    transforms.RandomHorizontalFlip(p=0.5), # 데이터 증감 # 이미지특성을 더 발현시킴\n",
    "    # _____________________2,\n",
    "    transforms.ToTensor(),\n",
    "    transforms.Normalize(mean=(0.485, 0.456, 0.406), std=(0.229, 0.224, 0.225)) # ImageNet 정규화:: 수많은 수행을 통해 알아낸 정규화 잘되는 숫자\n",
    "])\n",
    "val_transforms = transforms.Compose([\n",
    "    transforms.Resize((32,32)),\n",
    "    transforms.ToTensor()\n",
    "    ])\n"
   ]
  },
  {
   "cell_type": "markdown",
   "id": "6b7ead80",
   "metadata": {},
   "source": [
    "## 2. 데이터 불러오기"
   ]
  },
  {
   "cell_type": "code",
   "execution_count": 169,
   "id": "4f91c9ba",
   "metadata": {},
   "outputs": [],
   "source": [
    "train_dataset = datasets.Flowers102(root='./data', split='train', transform=train_transforms, download=True) # dataset받아뒀을 때 False를 하는데 다를 수 있어서 True하세요\n",
    "val_dataset = datasets.Flowers102(root='./data', split='val', transform=val_transforms, download=True)\n",
    "test_dataset = datasets.Flowers102(root='./data', split='test', transform=val_transforms, download=True)"
   ]
  },
  {
   "cell_type": "code",
   "execution_count": 170,
   "id": "b2cf6e79",
   "metadata": {},
   "outputs": [],
   "source": [
    "# datasets.FashionMNIST(root='./data', download=True)"
   ]
  },
  {
   "cell_type": "code",
   "execution_count": 171,
   "id": "690425f3",
   "metadata": {},
   "outputs": [],
   "source": [
    "train_loader = DataLoader(train_dataset, batch_size=batch_size, shuffle=True)   # batch_size 안 정하면 한번에 다 들고 오니까 터질 수 있음\n",
    "val_loader = DataLoader(val_dataset, batch_size=batch_size, shuffle=True)\n",
    "test_loader = DataLoader(test_dataset, batch_size=batch_size, shuffle=True)"
   ]
  },
  {
   "cell_type": "code",
   "execution_count": 172,
   "id": "43809cb4",
   "metadata": {},
   "outputs": [
    {
     "name": "stdout",
     "output_type": "stream",
     "text": [
      "훈련 데이터: 16\n",
      "검증 데이터: 16\n",
      "테스트 데이터: 97\n"
     ]
    }
   ],
   "source": [
    "# 검증데이터 개수 알아보기\n",
    "print(f'훈련 데이터: {len(train_loader)}')\n",
    "print(f'검증 데이터: {len(val_loader)}')\n",
    "print(f'테스트 데이터: {len(test_loader)}')"
   ]
  },
  {
   "cell_type": "code",
   "execution_count": 180,
   "id": "2f8263a9",
   "metadata": {},
   "outputs": [
    {
     "data": {
      "text/plain": [
       "torch.Size([64, 3, 32, 32])"
      ]
     },
     "execution_count": 180,
     "metadata": {},
     "output_type": "execute_result"
    }
   ],
   "source": [
    "data_iter = iter(train_loader)\n",
    "sample_batch = next(data_iter)\n",
    "sample_image, sample_label = sample_batch\n",
    "sample_image.shape"
   ]
  },
  {
   "cell_type": "markdown",
   "id": "51fd138f",
   "metadata": {},
   "source": [
    "## 3. 모델 설계"
   ]
  },
  {
   "cell_type": "markdown",
   "id": "e436e0fb",
   "metadata": {},
   "source": [
    "- 전이학습이 되는 이유\n",
    "- input숫자와 output숫자 맞추기"
   ]
  },
  {
   "cell_type": "markdown",
   "id": "d4f5607e",
   "metadata": {},
   "source": [
    "### 3-1. LeNet5"
   ]
  },
  {
   "cell_type": "code",
   "execution_count": 174,
   "id": "c9d68f0d",
   "metadata": {},
   "outputs": [],
   "source": [
    "# class LeNet5Classic(nn.Module): # 옛날꺼__성능:(\n",
    "#     def __init__(self, *args, **kwargs):\n",
    "#         super(LeNet5Classic, self).__init__()\n",
    "#         # ❗conv1 -> conv2 -> conv3 -> fc1 -> fc2\n",
    "#         self.conv1 = nn.Conv2d(3, 6, kernel_size=5)     # 커널사이즈를 기반으로 특징 추출   # 숫자(하이퍼파라미터)는 성능에 크게 영향을 줌\n",
    "#         self.conv2 = nn.Conv2d(6, 16, kernel_size=5)\n",
    "#         self.conv3 = nn.Conv2d(16, 120, kernel_size=5)\n",
    "#         self.fc1 = nn.Linear(120, 84)                   # fully connected:: 분류기\n",
    "#         self.fc2 = nn.Linear(84, num_classes)\n",
    "\n",
    "#         self.relu = nn.ReLU()\n",
    "#         self.pool = nn.AvgPool2d(kernel_size=2, stride=2) # MaxPool과 달리 사이즈가 안바뀜\n",
    "\n",
    "#     def forward(self, x):\n",
    "#         x = self.pool(self.relu(self.conv1(x))) # 32 * 32 * 3 -> 28 * 28 * 6 -> 14 * 14 * 6\n",
    "#         x = self.pool(self.relu(self.conv2(x))) # 14 * 14 * 6 -> 10 * 10 * 16 -> 5 * 5 * 16\n",
    "#         x = self.relu(self.conv3(x))            # 5 * 5 * 16 -> 1 * 1 *120\n",
    "#         x = torch.flatten(x,1)                    # 120   # ❗\n",
    "#         x = self.relu(self.fc1(x))              # 120 -> 84\n",
    "#         x = self.fc2(x)                         # 84 -> num_classes\n",
    "#         return x"
   ]
  },
  {
   "cell_type": "code",
   "execution_count": 175,
   "id": "0c13d7f1",
   "metadata": {},
   "outputs": [],
   "source": [
    "class LeNet5Modern(nn.Module):  # 요즘꺼\n",
    "    def __init__(self, *args, **kwargs):\n",
    "        super(LeNet5Modern, self).__init__()\n",
    "        # 특성 추출\n",
    "        self.features = nn.Sequential(\n",
    "            # 첫번째 합성곱 레이어: 3 -> 6 채널\n",
    "            nn.Conv2d(in_channels=3, out_channels=6, kernel_size=5, stride=1, padding=0),\n",
    "            nn.BatchNorm2d(6),\n",
    "            nn.ReLU(inplace=True),\n",
    "            nn.MaxPool2d(kernel_size=2, stride=2),\n",
    "\n",
    "            # 두번째 합성곱 레이어: 6 -> 16 채널\n",
    "            nn.Conv2d(in_channels=6, out_channels=16, kernel_size=5, stride=1, padding=0),\n",
    "            nn.BatchNorm2d(16),\n",
    "            nn.ReLU(inplace=True),\n",
    "            nn.MaxPool2d(kernel_size=2, stride=2),\n",
    "\n",
    "            # 세번째 합성곱 레이어: 16 -> 120 채널 (:: 한이미지의 특징이 120개)\n",
    "            nn.Conv2d(in_channels=16, out_channels=120, kernel_size=5, stride=1, padding=0),\n",
    "            nn.BatchNorm2d(120),\n",
    "            nn.ReLU(inplace=True),\n",
    "        )\n",
    "\n",
    "        # 분류\n",
    "        self.classifier = nn.Sequential(\n",
    "            nn.Dropout(0.5),\n",
    "            nn.Linear(120, 84),\n",
    "            nn.ReLU(inplace=True),\n",
    "            nn.Dropout(0.3),\n",
    "            nn.Linear(84, num_classes)\n",
    "        )\n",
    "\n",
    "    def _init_weights(self):\n",
    "        for m in self.modules():\n",
    "            if isinstance(m, nn.Conv2d):\n",
    "                nn.init.kaiming_normal_(m.weight, mode='fan-out', nonlinearity='relu')\n",
    "                if m.bias is not None:\n",
    "                    nn.init.constant_(m.bias, 0)    # 강제로 bias값 0으로 바꿈\n",
    "            elif isinstance(m, nn.BatchNorm2d):\n",
    "                nn.init.constant_(m.weight, 0, 0.01)\n",
    "                nn.init.constant_(m.bias, 0)\n",
    "            elif isinstance(m, nn.Linear):\n",
    "                nn.init.normal_(m.weight, 0, 0.01)\n",
    "                nn.init.constant_(m.bias, 0)\n",
    "\n",
    "\n",
    "    def forward(self, x):\n",
    "        x = self.features(x)\n",
    "        x = torch.flatten(x, 1)\n",
    "        x = self.classifier(x)\n",
    "        return x\n"
   ]
  },
  {
   "cell_type": "markdown",
   "id": "4005bf89",
   "metadata": {},
   "source": [
    "### 3-2. 모델 설계(수업에 사용된 모델) 학습"
   ]
  },
  {
   "cell_type": "code",
   "execution_count": null,
   "id": "16b64b31",
   "metadata": {},
   "outputs": [],
   "source": [
    "class Flower102CNN(nn.Module): # 변경해보세요\n",
    "    def __init__(self):\n",
    "        super(Flower102CNN, self).__init__()\n",
    "        self.layer1 = nn.Sequential(\n",
    "            nn.Conv2d(3, 32, kernel_size=3, padding=1), # 사이즈:: 32 * 32 * 3(채널이 3개니까 필터값이 3*3*3) => 32 * 32 * 32   ## Out = (입력크기 + 2*패딩 - 커널크기) / 스트라이드 + 1\n",
    "            nn.BatchNorm2d(32),                         # 배치정규화 => 32개가 나감\n",
    "            nn.ReLU(),                                  # 32\n",
    "            nn.MaxPool2d(kernel_size=2, stride=2)       # 16 * 16 * 32                          ## 32*32 >> 16*16 == 입력된 이미지 값이 작아지는거\n",
    "        )\n",
    "        self.layer2 = nn.Sequential(\n",
    "            nn.Conv2d(32, 64, kernel_size=3),   #작은걸 확대시키니까 특성이 더 발현됨\n",
    "            nn.BatchNorm2d(64),\n",
    "            nn.ReLU(),                          # 14 * 14 * 64(padding을 안해서 14가 나옴)\n",
    "            nn.MaxPool2d(kernel_size=2, stride=2)\n",
    "        )\n",
    "        self.fc1 = nn.Linear(64 * 7 * 7, 512) \n",
    "        self.drop = nn.Dropout(0.5)\n",
    "        self.fc2 = nn.Linear(512, num_classes)  # 출력개수: 102\n",
    "\n",
    "    def forward(self, x):\n",
    "        x = self.layer1(x)\n",
    "        x = self.layer2(x)\n",
    "        x = x.view(x.size(0), -1)   # 옛날 코드엔 flatten코드가 없어서\n",
    "        x = self.fc1(x)\n",
    "        x = self.drop(x)\n",
    "        x = self.fc2(x)\n",
    "        return x"
   ]
  },
  {
   "cell_type": "markdown",
   "id": "5bfe80f1",
   "metadata": {},
   "source": [
    "## 4. 학습"
   ]
  },
  {
   "cell_type": "code",
   "execution_count": 177,
   "id": "d8486fd2",
   "metadata": {},
   "outputs": [
    {
     "name": "stdout",
     "output_type": "stream",
     "text": [
      "Epoch [1/20], Loss: 4.6367\n",
      "Epoch [2/20], Loss: 4.5398\n",
      "Epoch [3/20], Loss: 4.4663\n",
      "Epoch [4/20], Loss: 4.3766\n",
      "Epoch [5/20], Loss: 4.2418\n",
      "Epoch [6/20], Loss: 4.0739\n",
      "Epoch [7/20], Loss: 3.9552\n",
      "Epoch [8/20], Loss: 3.8367\n",
      "Epoch [9/20], Loss: 3.7242\n",
      "Epoch [10/20], Loss: 3.6023\n",
      "Epoch [11/20], Loss: 3.5084\n",
      "Epoch [12/20], Loss: 3.4340\n",
      "Epoch [13/20], Loss: 3.3149\n",
      "Epoch [14/20], Loss: 3.2682\n",
      "Epoch [15/20], Loss: 3.1742\n",
      "Epoch [16/20], Loss: 3.1206\n",
      "Epoch [17/20], Loss: 3.0702\n",
      "Epoch [18/20], Loss: 2.9886\n",
      "Epoch [19/20], Loss: 2.9353\n",
      "Epoch [20/20], Loss: 2.8639\n"
     ]
    }
   ],
   "source": [
    "# 3. 손실 함수 및 옵티마이저 정의\n",
    "# criterion = nn.CrossEntropyLoss()\n",
    "# optimizer = optim.Adam(model.parameters(), lr=0.001)\n",
    "\n",
    "# 4. 학습 루프\n",
    "def train_model(model, train_loader, criterion, optimizer, num_epochs=10):\n",
    "    model.train()\n",
    "    for epoch in range(num_epochs):\n",
    "        running_loss = 0.0\n",
    "        for images, labels in train_loader:\n",
    "            images, labels = images.to(device), labels.to(device)\n",
    "\n",
    "            # 순전파\n",
    "            outputs = model(images)\n",
    "            loss = criterion(outputs, labels) #\n",
    "\n",
    "            # 역전파 및 최적화\n",
    "            optimizer.zero_grad()\n",
    "            loss.backward()\n",
    "            optimizer.step()\n",
    "\n",
    "            running_loss += loss.item()\n",
    "\n",
    "        print(f\"Epoch [{epoch + 1}/{num_epochs}], Loss: {running_loss / len(train_loader):.4f}\")\n",
    "\n",
    "\n",
    "# model = Flower102CNN()\n",
    "# device = torch.device('cuda' if torch.cuda.is_available() else 'cpu')\n",
    "# model.to(device)\n",
    "\n",
    "# 5. 학습 및 평가\n",
    "# model = LeNet5Classic().to(device)\n",
    "model = LeNet5Modern().to(device)\n",
    "# model = Flower102CNN().to(device)\n",
    "criterion = nn.CrossEntropyLoss()\n",
    "optimizer = optim.Adam(model.parameters(), lr=0.001)\n",
    "train_model(model, train_loader, criterion, optimizer, num_epochs=20) # epochs 몇번돌릴건지"
   ]
  },
  {
   "cell_type": "markdown",
   "id": "425c3677",
   "metadata": {},
   "source": [
    "## 5. 평가"
   ]
  },
  {
   "cell_type": "code",
   "execution_count": 179,
   "id": "514e2b87",
   "metadata": {},
   "outputs": [
    {
     "name": "stdout",
     "output_type": "stream",
     "text": [
      "Test Accuracy: 1.17%\n"
     ]
    }
   ],
   "source": [
    "def evaluate_model(model, test_loader):\n",
    "    model.eval()\n",
    "    correct = 0 # ❗\n",
    "    total = 0   # ❗\n",
    "    with torch.no_grad():\n",
    "        for images, labels in test_loader:\n",
    "            images, labels = images.to(device), labels.to(device)\n",
    "            outputs = model(images)\n",
    "            _, predicted = torch.max(outputs, 1)\n",
    "            total += labels.size(0)\n",
    "            correct += (predicted == labels).sum().item()\n",
    "\n",
    "    accuracy = 100 * correct / total\n",
    "    print(f\"Test Accuracy: {accuracy:.2f}%\")\n",
    "evaluate_model(model, test_loader)"
   ]
  },
  {
   "cell_type": "code",
   "execution_count": null,
   "id": "1e3810f6",
   "metadata": {},
   "outputs": [],
   "source": []
  }
 ],
 "metadata": {
  "kernelspec": {
   "display_name": "Python 3",
   "language": "python",
   "name": "python3"
  },
  "language_info": {
   "codemirror_mode": {
    "name": "ipython",
    "version": 3
   },
   "file_extension": ".py",
   "mimetype": "text/x-python",
   "name": "python",
   "nbconvert_exporter": "python",
   "pygments_lexer": "ipython3",
   "version": "3.9.13"
  }
 },
 "nbformat": 4,
 "nbformat_minor": 5
}

{
 "cells": [
  {
   "cell_type": "markdown",
   "id": "ecdbfe07",
   "metadata": {},
   "source": [
    "# 102 Category Flower Dataset \n",
    "\n",
    "> Caltech101을 사용해서 최소한의 모델을 구성해봅시다!"
   ]
  },
  {
   "cell_type": "code",
   "execution_count": 2,
   "id": "e6067a68",
   "metadata": {},
   "outputs": [
    {
     "name": "stdout",
     "output_type": "stream",
     "text": [
      "GPU/CPU: cuda\n"
     ]
    }
   ],
   "source": [
    "import numpy as np\n",
    "import pandas as pd\n",
    "import matplotlib.pyplot as plt\n",
    "import torch\n",
    "import torch.nn as nn\n",
    "import torch.optim as optim\n",
    "from torch.utils.data import DataLoader\n",
    "import torchvision\n",
    "from torchvision import datasets, transforms, models\n",
    "\n",
    "device = torch.device(\"cuda\" if torch.cuda.is_available() else \"cpu\")\n",
    "print(f\"GPU/CPU: {device}\")\n",
    "\n",
    "import ssl\n",
    "ssl._create_default_https_context = ssl._create_unverified_context"
   ]
  },
  {
   "cell_type": "code",
   "execution_count": 3,
   "id": "13728df4",
   "metadata": {},
   "outputs": [],
   "source": [
    "batch_size = 8\n",
    "lr = 0.001\n",
    "num_epochs = 20\n",
    "num_classes = 102"
   ]
  },
  {
   "cell_type": "markdown",
   "id": "10fffa51",
   "metadata": {},
   "source": [
    "## 1. 전처리(이미지)"
   ]
  },
  {
   "cell_type": "code",
   "execution_count": 4,
   "id": "55fc41c8",
   "metadata": {},
   "outputs": [],
   "source": [
    "train_transforms = transforms.Compose([\n",
    "    transforms.Resize((224,224)),   # 사진이 클수록 성능이 좋아짐\n",
    "    transforms.RandomHorizontalFlip(p=0.5),\n",
    "    transforms.RandomRotation(degrees=15),\n",
    "    transforms.ToTensor(),\n",
    "    transforms.Normalize(mean=[0.485, 0.456, 0.406], std=[0.229, 0.224, 0.225])\n",
    "])\n",
    "\n",
    "val_transforms = transforms.Compose([\n",
    "    transforms.Resize((224,224)),\n",
    "    transforms.ToTensor() , \n",
    "    transforms.Normalize(mean=[0.485, 0.456, 0.406], std=[0.229, 0.224, 0.225])  \n",
    "])"
   ]
  },
  {
   "cell_type": "markdown",
   "id": "acc30f99",
   "metadata": {},
   "source": [
    "## 2. 데이터 불러오기"
   ]
  },
  {
   "cell_type": "code",
   "execution_count": 5,
   "id": "0fe21dee",
   "metadata": {},
   "outputs": [],
   "source": [
    "train_dataset = datasets.Flowers102(root=\"./data\", transform=train_transforms, download=True)\n",
    "val_dataset = datasets.Flowers102(root=\"./data\",  transform=val_transforms, download=True)\n",
    "test_dataset = datasets.Flowers102(root=\"./data\",  transform=val_transforms, download=True)"
   ]
  },
  {
   "cell_type": "code",
   "execution_count": 6,
   "id": "d733ed7a",
   "metadata": {},
   "outputs": [],
   "source": [
    "train_loader = DataLoader(train_dataset, batch_size=batch_size, shuffle=True)\n",
    "val_loader = DataLoader(val_dataset, batch_size=batch_size, shuffle=True)\n",
    "test_loader = DataLoader(test_dataset, batch_size=batch_size, shuffle=True)"
   ]
  },
  {
   "cell_type": "code",
   "execution_count": 7,
   "id": "c71136e1",
   "metadata": {},
   "outputs": [
    {
     "name": "stdout",
     "output_type": "stream",
     "text": [
      "훈련 데이터: 128\n",
      "검증 데이터: 128\n",
      "테스트 데이터: 128\n"
     ]
    }
   ],
   "source": [
    "print(f\"훈련 데이터: {len(train_loader)}\")\n",
    "print(f\"검증 데이터: {len(val_loader)}\")\n",
    "print(f\"테스트 데이터: {len(test_loader)}\")"
   ]
  },
  {
   "cell_type": "markdown",
   "id": "369a1ad8",
   "metadata": {},
   "source": [
    "## 모델 설계"
   ]
  },
  {
   "cell_type": "code",
   "execution_count": 8,
   "id": "bc80dfce",
   "metadata": {},
   "outputs": [],
   "source": [
    "class LeNet5Classic(nn.Module):\n",
    "    def __init__(self, *args, **kwargs):\n",
    "        super(LeNet5Classic, self).__init__()\n",
    "        self.conv1 = nn.Conv2d(3, 6, kernel_size=5)\n",
    "        self.conv2 = nn.Conv2d(6, 16, kernel_size=5)\n",
    "        self.conv3 = nn.Conv2d(16, 120, kernel_size=5)\n",
    "        self.fc1 = nn.Linear(120,84)\n",
    "        self.fc2 = nn.Linear(84,num_classes)\n",
    "        self.relu = nn.ReLU()\n",
    "        self.pool = nn.AvgPool2d(kernel_size=2, stride=2)\n",
    "    def forward(self, x):\n",
    "        x = self.pool(self.relu(self.conv1(x)))\n",
    "        x = self.pool(self.relu(self.conv2(x)))\n",
    "        x = self.relu(self.conv3(x))\n",
    "        x = torch.flatten(x,1)\n",
    "        x = self.relu(self.fc1(x))\n",
    "        x = self.fc2(x)\n",
    "        return x"
   ]
  },
  {
   "cell_type": "code",
   "execution_count": 9,
   "id": "e8124780",
   "metadata": {},
   "outputs": [],
   "source": [
    "class LeNet5Modern(nn.Module):\n",
    "    def __init__(self, *args, **kwargs):\n",
    "        super(LeNet5Modern, self).__init__()\n",
    "        self.features = nn.Sequential(\n",
    "            nn.Conv2d(in_channels=3, out_channels=6, kernel_size=5, stride=1, padding=0),\n",
    "            nn.BatchNorm2d(6),\n",
    "            nn.ReLU(inplace=True),\n",
    "            nn.MaxPool2d(kernel_size=2, stride=2),\n",
    "            nn.Conv2d(in_channels=6, out_channels=16, kernel_size=5, stride=1, padding=0),\n",
    "            nn.BatchNorm2d(16),\n",
    "            nn.ReLU(inplace=True),\n",
    "            nn.MaxPool2d(kernel_size=2, stride=2),\n",
    "            nn.Conv2d(in_channels=16, out_channels=120, kernel_size=5, stride=1, padding=0),\n",
    "            nn.BatchNorm2d(120),\n",
    "            nn.ReLU(inplace=True),\n",
    "        )\n",
    "        self.classifier = nn.Sequential(\n",
    "            nn.Dropout(0.5),\n",
    "            nn.Linear(120,84),\n",
    "            nn.ReLU(inplace=True),\n",
    "            nn.Dropout(0.3),\n",
    "            nn.Linear(84, num_classes)\n",
    "        )\n",
    "\n",
    "        self._init_weights()\n",
    "\n",
    "    def _init_weights(self):\n",
    "        for m in self.modules():\n",
    "            if isinstance(m, nn.Conv2d):\n",
    "                nn.init.kaiming_normal_(m.weight, mode=\"fan_out\", nonlinearity=\"relu\")\n",
    "                if m.bias is not None:\n",
    "                    nn.init.constant_(m.bias, 0)\n",
    "            elif isinstance(m, nn.BatchNorm2d):\n",
    "                nn.init.constant_(m.weight, 1)\n",
    "                nn.init.constant_(m.bias, 0)\n",
    "            elif isinstance(m, nn.Linear):\n",
    "                nn.init.normal_(m.weight, 0, 0.01)\n",
    "                nn.init.constant_(m.bias, 0)\n",
    "\n",
    "\n",
    "    def forward(self, x):\n",
    "        x = self.features(x)\n",
    "        x = torch.flatten(x,1)\n",
    "        x = self.classifier(x)\n",
    "        return x"
   ]
  },
  {
   "cell_type": "code",
   "execution_count": 10,
   "id": "bc9582c3",
   "metadata": {},
   "outputs": [],
   "source": [
    "class Flower102CNN(nn.Module):\n",
    "    def __init__(self):\n",
    "        super(Flower102CNN, self).__init__()\n",
    "        self.layer1 = nn.Sequential(\n",
    "            nn.Conv2d(3, 32, kernel_size=3, padding=1),\n",
    "            nn.BatchNorm2d(32),\n",
    "            nn.ReLU(),\n",
    "            nn.MaxPool2d(kernel_size=2, stride=2)\n",
    "        )\n",
    "        self.layer2 = nn.Sequential(\n",
    "            nn.Conv2d(32, 64, kernel_size=3),\n",
    "            nn.BatchNorm2d(64),\n",
    "            nn.ReLU(),\n",
    "            nn.MaxPool2d(kernel_size=2, stride=2)\n",
    "        )\n",
    "        self.fc1 = nn.Linear(64 * 7 * 7, 512)\n",
    "        self.drop = nn.Dropout(0.5)\n",
    "        self.fc2 = nn.Linear(512, num_classes)\n",
    "\n",
    "    def forward(self, x):\n",
    "        x = self.layer1(x)\n",
    "        x = self.layer2(x)\n",
    "        x = torch.flatten(x,1)\n",
    "        x = self.fc1(x)\n",
    "        x = self.drop(x)\n",
    "        x = self.fc2(x)\n",
    "        return x"
   ]
  },
  {
   "cell_type": "markdown",
   "id": "33d3f862",
   "metadata": {},
   "source": [
    "- 전이학습은 기울기 동결\n",
    "- 파인튜닝을 기울기 조절"
   ]
  },
  {
   "cell_type": "code",
   "execution_count": 11,
   "id": "90bd9655",
   "metadata": {},
   "outputs": [],
   "source": [
    "class Flower102ResNet50(nn.Module): # 전이학습(되는 애들만 됨 __허깅페이스에 있어야됨(없고 깃허브에 있으면 걔버전에 다 맞춰야함))\n",
    "    def __init__(self):\n",
    "        super(Flower102ResNet50, self).__init__()\n",
    "        self.resnet = models.resnet18(pretrained=True)  #모델 호출\n",
    "\n",
    "        # 특징 추출\n",
    "        for param in self.resnet.parameters():\n",
    "            param.requires_grad = False                 # 기존의 가중치는 고정\n",
    "\n",
    "        # 출력\n",
    "        num_features = self.resnet.fc.in_features       # fullconnected에 입력되는 개수를 받아옴\n",
    "        self.resnet.fc = nn.Sequential(\n",
    "            nn.Dropout(0.5),\n",
    "            nn.Linear(num_features, 84),\n",
    "            nn.ReLU(inplace=True),\n",
    "            nn.Dropout(0.3),\n",
    "            nn.Linear(84, num_classes)\n",
    "        )\n",
    "\n",
    "\n",
    "    def forward(self, x):\n",
    "        return self.resnet(x)"
   ]
  },
  {
   "cell_type": "code",
   "execution_count": 17,
   "id": "3b38f005",
   "metadata": {},
   "outputs": [],
   "source": [
    "class Flower102VGG11(nn.Module):    # 추론속도 빠름(Resnet보다 많이씀)\n",
    "    def __init__(self, *args, **kwargs):\n",
    "        super(Flower102VGG11, self).__init__()\n",
    "        self.vgg = models.vgg11(pretrained=True)\n",
    "\n",
    "        # 특징 추출\n",
    "        for param in self.vgg.parameters():\n",
    "            param.requires_grad = True\n",
    "\n",
    "        # 출력\n",
    "        num_features = self.vgg.classifier[0].in_features   #classifier = nn.classifier(_,_,_,...) 라스트처럼 가져옴\n",
    "        self.vgg.classifier = nn.Sequential(\n",
    "            nn.Dropout(0.5),\n",
    "            nn.Linear(num_features, 84),\n",
    "            nn.ReLU(inplace=True),\n",
    "            nn.Dropout(0.3),\n",
    "            nn.Linear(84, num_classes)\n",
    "        )\n",
    "\n",
    "    def forward(self, x):\n",
    "        return self.vgg(x)"
   ]
  },
  {
   "cell_type": "code",
   "execution_count": 18,
   "id": "627b951e",
   "metadata": {},
   "outputs": [],
   "source": [
    "# class Flower102Vit(nn.Module):  # 트랜스포머 모델(요즘 많이씀)\n",
    "#     def __init__(self):\n",
    "#         super(Flower102Vit, self).__init__()\n",
    "#         self.vit = models.vit_b_16(pretrained=True)\n",
    "\n",
    "#         # 특징 추출\n",
    "#         for param in self.vit.parameters():\n",
    "#             param.requires_grad = False\n",
    "\n",
    "#         # 출력\n",
    "#         og_head_dim = self.vit.heads.head.in_features\n",
    "\n",
    "#         self.vit.heads.head = nn.Sequential(\n",
    "#             nn.LayerNorm(og_head_dim),\n",
    "           \n",
    "#         )\n",
    "\n",
    "        "
   ]
  },
  {
   "cell_type": "markdown",
   "id": "d9fbdfe7",
   "metadata": {},
   "source": [
    "# 학습"
   ]
  },
  {
   "cell_type": "code",
   "execution_count": 20,
   "id": "4b368baa",
   "metadata": {},
   "outputs": [
    {
     "name": "stdout",
     "output_type": "stream",
     "text": [
      "Epoch [1/10], Loss: 4.6466\n",
      "Epoch [2/10], Loss: 4.6303\n",
      "Epoch [3/10], Loss: 4.6376\n",
      "Epoch [4/10], Loss: 4.6458\n",
      "Epoch [5/10], Loss: 4.6280\n",
      "Epoch [6/10], Loss: 4.6281\n",
      "Epoch [7/10], Loss: 4.6280\n",
      "Epoch [8/10], Loss: 4.6277\n",
      "Epoch [9/10], Loss: 4.6279\n",
      "Epoch [10/10], Loss: 4.6277\n"
     ]
    }
   ],
   "source": [
    "def train_model(model, train_loader, criterion, optimizer, num_epochs=10):\n",
    "    model.train()\n",
    "    for epoch in range(num_epochs):\n",
    "        running_loss = 0.0\n",
    "        for images, labels in train_loader:\n",
    "            images, labels = images.to(device='cpu'), labels.to(device='cpu')   #vgg쓸때는 'cpu', gpu(4GB)는 터짐\n",
    "\n",
    "            # 순전파\n",
    "            outputs = model(images)\n",
    "            loss = criterion(outputs, labels)\n",
    "\n",
    "            # 역전파 및 최적화\n",
    "            optimizer.zero_grad()\n",
    "            loss.backward()\n",
    "            optimizer.step()\n",
    "\n",
    "            running_loss += loss.item()\n",
    "\n",
    "        print(f\"Epoch [{epoch + 1}/{num_epochs}], Loss: {running_loss / len(train_loader):.4f}\")\n",
    "\n",
    "# 학습 및 평가\n",
    "# model = LeNet5Classic().to(device)\n",
    "# model = LeNet5Modern().to(device)\n",
    "# model = Flower102CNN().to(device)\n",
    "# model = Flower102ResNet50().to(device)\n",
    "model = Flower102VGG11().to(device='cpu')\n",
    "criterion = nn.CrossEntropyLoss()\n",
    "optimizer = optim.Adam(model.parameters(), lr=0.001)\n",
    "train_model(model, train_loader, criterion, optimizer, num_epochs=10)"
   ]
  },
  {
   "cell_type": "markdown",
   "id": "e7571ac3",
   "metadata": {},
   "source": [
    "## 평가"
   ]
  },
  {
   "cell_type": "code",
   "execution_count": 22,
   "id": "f14488d9",
   "metadata": {},
   "outputs": [
    {
     "name": "stdout",
     "output_type": "stream",
     "text": [
      "Test Accuracy: 0.98%\n"
     ]
    }
   ],
   "source": [
    "def evaluate_model(model, test_loader):\n",
    "    model.eval()\n",
    "    correct = 0\n",
    "    total = 0\n",
    "    with torch.no_grad():\n",
    "        for images, labels in test_loader:\n",
    "            images, labels = images.to(device='cpu'), labels.to(device='cpu')\n",
    "            outputs = model(images)\n",
    "            _, predicted = torch.max(outputs, 1)\n",
    "            total += labels.size(0)\n",
    "            correct += (predicted == labels).sum().item()\n",
    "\n",
    "    accuracy = 100 * correct / total\n",
    "    print(f\"Test Accuracy: {accuracy:.2f}%\")\n",
    "evaluate_model(model, test_loader)"
   ]
  },
  {
   "cell_type": "code",
   "execution_count": null,
   "id": "357d2d96",
   "metadata": {},
   "outputs": [],
   "source": [
    "# 1. 상태값만 저장하는 방법(배포용):: 잘쓰지는\n",
    "# 2. 전체 모델 저장하는 방법(보관 및 배포):: 주니어단계에서 프로젝트 저장할때bb\n",
    "# 3. 체크포인트 저장(학습 재개용):: 자원을 나눠써야할 때\n",
    "# 4. 최고 성능만 선별 저장:: 체크포인트 저장은 할건데.. 일단 API부터 뽑음\n",
    "# torch.save(model, '20250530_vgg11_epoch10.pth') # 2"
   ]
  }
 ],
 "metadata": {
  "kernelspec": {
   "display_name": "Python 3",
   "language": "python",
   "name": "python3"
  },
  "language_info": {
   "codemirror_mode": {
    "name": "ipython",
    "version": 3
   },
   "file_extension": ".py",
   "mimetype": "text/x-python",
   "name": "python",
   "nbconvert_exporter": "python",
   "pygments_lexer": "ipython3",
   "version": "3.9.13"
  }
 },
 "nbformat": 4,
 "nbformat_minor": 5
}
